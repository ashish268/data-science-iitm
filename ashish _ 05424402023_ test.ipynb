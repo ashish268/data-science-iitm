{
 "cells": [
  {
   "cell_type": "code",
   "execution_count": 2,
   "id": "e64560a5-0659-4926-8384-78f01cbff6cb",
   "metadata": {},
   "outputs": [
    {
     "name": "stdout",
     "output_type": "stream",
     "text": [
      "[10, 20, 30]\n",
      "(30, 20, 30)\n"
     ]
    }
   ],
   "source": [
    "#Q1\n",
    "#list - list is mutable,\n",
    "#List: Created using square brackets []\n",
    "#List: Lists have a lot of built in methods like .append(), .remove()\n",
    " #example-\n",
    "my_list = [10, 20, 30]\n",
    "print(my_list)\n",
    "\n",
    "\n",
    "\n",
    "#tuple - tuple is immutable\n",
    "#tuble -  Created using parentheses ()\n",
    "#tuple - Tuple have methods, mainly .count() and .index()\n",
    "#example- \n",
    "my_tuple = (30, 20, 30)\n",
    "print(my_tuple)\n"
   ]
  },
  {
   "cell_type": "code",
   "execution_count": null,
   "id": "67c9e422-9f2f-4b74-baaf-9972d7704c2d",
   "metadata": {},
   "outputs": [],
   "source": [
    "# Q2\n",
    "# when we use (input) function in python it ask for the input from the user \n",
    "# (input) function  always return a string\n",
    "# convert using (int) function"
   ]
  },
  {
   "cell_type": "code",
   "execution_count": 4,
   "id": "ed921cf4-105f-4eaf-927a-9fc33a466490",
   "metadata": {},
   "outputs": [
    {
     "name": "stdout",
     "output_type": "stream",
     "text": [
      "{'brand': 'Suzuki', 'model': 'Hayabusa', 'year': 2024}\n"
     ]
    }
   ],
   "source": [
    "#Q3\n",
    "#Dictionaries are used to store data values in keyvalue pairs\n",
    "# it is changeable and dont allow duplicates\n",
    "#syntax - \n",
    "mybike = {\n",
    "  \"brand\": \"Suzuki\",\n",
    "  \"model\": \"Hayabusa\",\n",
    "  \"year\": 2024\n",
    "}\n",
    "print (mybike)"
   ]
  },
  {
   "cell_type": "code",
   "execution_count": 5,
   "id": "5ae19daa-05d1-4a1b-a054-9359fa46c527",
   "metadata": {},
   "outputs": [
    {
     "name": "stdout",
     "output_type": "stream",
     "text": [
      "1\n",
      "2\n",
      "3\n",
      "4\n",
      "5\n"
     ]
    }
   ],
   "source": [
    "#Q4\n",
    "# It helps you run the same code multiple times without having to write it over and over again.\n",
    "# example - \n",
    "for i in range(1, 6):\n",
    "    print(i)"
   ]
  },
  {
   "cell_type": "code",
   "execution_count": 7,
   "id": "ad3834bf-ffb7-4550-8cc1-6f54ec3721f7",
   "metadata": {},
   "outputs": [
    {
     "name": "stdin",
     "output_type": "stream",
     "text": [
      "Enter a number:  10\n"
     ]
    },
    {
     "name": "stdout",
     "output_type": "stream",
     "text": [
      "Result is: 1.0\n",
      "Program has finished running.\n"
     ]
    }
   ],
   "source": [
    "#Q5\n",
    "#Exception handling in Python is a way to catch and handle errors that may occur during the execution of a program\n",
    "# TRY -  it is used to read a number\n",
    "# EXCEPET -  Catches an error if user enters something not a number\n",
    "# FINALLY -  Runs no matter what – good for closing files, releasing resources, etc.\n",
    "# EXAMPLE -\n",
    "try:\n",
    "    num = int(input(\"Enter a number: \"))\n",
    "    result = 10 / num\n",
    "    print(\"Result is:\", result)\n",
    "except ZeroDivisionError:\n",
    "    print(\"You can't divide by zero!\")\n",
    "except ValueError:\n",
    "    print(\"Please enter a valid number.\")\n",
    "finally:\n",
    "    print(\"Program has finished running.\")\n"
   ]
  },
  {
   "cell_type": "code",
   "execution_count": null,
   "id": "de350f9b-2a9e-4594-8e4c-01b2e7c66b67",
   "metadata": {},
   "outputs": [],
   "source": [
    "# Q6\n",
    "# A module in Python is a file containing Python code, such as functions, classes, or variables.\n",
    "# Python has built-in modules (like math, random)\n",
    " #Difference Between: import math and from math import sqrt\n",
    " # import math - Imports the entire math module. You must use math. prefix to access functions.\n",
    " # from math import sqrt - Imports only the sqrt function from the math module. No prefix needed.\n",
    "# example - \n",
    "\n"
   ]
  },
  {
   "cell_type": "code",
   "execution_count": 15,
   "id": "251de230-057d-406c-9938-4a0e31ef8dab",
   "metadata": {},
   "outputs": [
    {
     "name": "stdout",
     "output_type": "stream",
     "text": [
      "Square root is: 4.47213595499958\n"
     ]
    }
   ],
   "source": [
    "import math\n",
    "\n",
    "number = 20\n",
    "square_root = math.sqrt(number) \n",
    "print(\"Square root is:\", square_root)"
   ]
  },
  {
   "cell_type": "code",
   "execution_count": 11,
   "id": "3e4bad05-d037-4baf-8afa-3b9136c84967",
   "metadata": {},
   "outputs": [],
   "source": [
    "# q7\n",
    "#oops in python has four pillars- polymorphism,encapsulation,abstraction and inheritence\n",
    "#it helps the code to organize in classes,class is a blueprint and object is a instance of a class\n"
   ]
  },
  {
   "cell_type": "code",
   "execution_count": 14,
   "id": "7ec47ac4-6bfa-4574-827d-2fa3c800c38c",
   "metadata": {},
   "outputs": [],
   "source": [
    "class Animal:\n",
    "    def __init__(self, name): \n",
    "        self.name = name\n",
    "\n",
    "d = Animal(\"Buddy\")"
   ]
  },
  {
   "cell_type": "code",
   "execution_count": 17,
   "id": "c56d0446-1c1e-4583-8a83-d76402e3c8ab",
   "metadata": {},
   "outputs": [
    {
     "name": "stdout",
     "output_type": "stream",
     "text": [
      "Area of the circle with radius 5 is: 78.53981633974483\n"
     ]
    }
   ],
   "source": [
    "#Q9\n",
    "#Q9\n",
    "import math  \n",
    "\n",
    "def calculate_area(radius):\n",
    "    area = math.pi * radius ** 2\n",
    "    return area\n",
    "\n",
    "\n",
    "result = calculate_area(5)\n",
    "print(\"Area of the circle with radius 5 is:\", result)"
   ]
  },
  {
   "cell_type": "code",
   "execution_count": 26,
   "id": "6912cd85-638b-4e67-aaff-5e235dd1cdc5",
   "metadata": {},
   "outputs": [
    {
     "name": "stdout",
     "output_type": "stream",
     "text": [
      "0,mango\n",
      "1,orange\n",
      "2,papaya\n"
     ]
    }
   ],
   "source": [
    "#Q10\n",
    "fruits=[\"mango\",\"orange\",\"papaya\"]\n",
    "for i in range (len(fruits)):\n",
    "  print(f\"{i},{fruits[i]}\")"
   ]
  },
  {
   "cell_type": "code",
   "execution_count": 20,
   "id": "ed3988ef-9383-40bc-8609-af8456e9613c",
   "metadata": {},
   "outputs": [
    {
     "name": "stdout",
     "output_type": "stream",
     "text": [
      "1. Apple\n",
      "2. Banana\n",
      "3. Mango\n",
      "4. Orange\n",
      "5. Grapes\n"
     ]
    }
   ],
   "source": [
    "#Q11\n",
    "fruits = [\"Apple\", \"Banana\", \"Mango\", \"Orange\", \"Grapes\"]\n",
    "\n",
    "\n",
    "for index, fruit in enumerate(fruits, start=1):\n",
    "    print(f\"{index}. {fruit}\")"
   ]
  },
  {
   "cell_type": "code",
   "execution_count": 21,
   "id": "4cc4c1e9-c84e-4025-a8b0-f35f10c6d7eb",
   "metadata": {},
   "outputs": [],
   "source": [
    "#Q12\n",
    "def grade_calculator(score):\n",
    "    if 90 <= score <= 100:\n",
    "        return \"A\"\n",
    "    elif 80 <= score < 90:\n",
    "        return \"B\"\n",
    "    elif 70 <= score < 80:\n",
    "        return \"C\"\n",
    "    elif 60 <= score < 70:\n",
    "        return \"D\"\n",
    "    elif 0 <= score < 60:\n",
    "        return \"F\"\n",
    "    else:\n",
    "        return \"Invalid score\""
   ]
  },
  {
   "cell_type": "code",
   "execution_count": 23,
   "id": "2a59159f-52c4-45dc-94b5-0c40ce438b5e",
   "metadata": {},
   "outputs": [
    {
     "name": "stdout",
     "output_type": "stream",
     "text": [
      "Score: 95 = Grade: A\n",
      "Score: 82 = Grade: B\n",
      "Score: 58 = Grade: F\n"
     ]
    }
   ],
   "source": [
    "print(\"Score: 95 = Grade:\", grade_calculator(95))  \n",
    "print(\"Score: 82 = Grade:\", grade_calculator(82))  \n",
    "print(\"Score: 58 = Grade:\", grade_calculator(58))"
   ]
  },
  {
   "cell_type": "code",
   "execution_count": 27,
   "id": "4c272177-d047-4e3f-b789-ff432769e510",
   "metadata": {},
   "outputs": [
    {
     "name": "stdout",
     "output_type": "stream",
     "text": [
      "Prime numbers between 1 and 50 are:\n",
      "2 3 5 7 11 13 17 19 23 29 31 37 41 43 47 "
     ]
    }
   ],
   "source": [
    "#Q15\n",
    "def is_prime(num):\n",
    "    if num < 2:\n",
    "        return False\n",
    "    for i in range(2, int(num ** 0.5) + 1): \n",
    "        if num % i == 0:\n",
    "            return False\n",
    "    return True\n",
    "\n",
    "\n",
    "prime_numbers = []\n",
    "for number in range(1, 51):\n",
    "    if is_prime(number):\n",
    "        prime_numbers.append(number)\n",
    "\n",
    "\n",
    "print(\"Prime numbers between 1 and 50 are:\")\n",
    "for prime in prime_numbers:\n",
    "    print(prime, end=\" \")"
   ]
  },
  {
   "cell_type": "code",
   "execution_count": null,
   "id": "81d9e1d4-c899-4c31-aa6e-2f7cb86c3b6c",
   "metadata": {},
   "outputs": [],
   "source": []
  }
 ],
 "metadata": {
  "kernelspec": {
   "display_name": "Python [conda env:base] *",
   "language": "python",
   "name": "conda-base-py"
  },
  "language_info": {
   "codemirror_mode": {
    "name": "ipython",
    "version": 3
   },
   "file_extension": ".py",
   "mimetype": "text/x-python",
   "name": "python",
   "nbconvert_exporter": "python",
   "pygments_lexer": "ipython3",
   "version": "3.13.5"
  }
 },
 "nbformat": 4,
 "nbformat_minor": 5
}
